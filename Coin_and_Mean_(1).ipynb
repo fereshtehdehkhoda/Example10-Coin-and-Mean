{
  "cells": [
    {
      "cell_type": "markdown",
      "metadata": {
        "id": "view-in-github",
        "colab_type": "text"
      },
      "source": [
        "<a href=\"https://colab.research.google.com/github/fereshtehdehkhoda/Example10-Coin-and-Mean/blob/main/Coin_and_Mean_(1).ipynb\" target=\"_parent\"><img src=\"https://colab.research.google.com/assets/colab-badge.svg\" alt=\"Open In Colab\"/></a>"
      ]
    },
    {
      "cell_type": "markdown",
      "id": "05a93096-73f1-4360-87a1-63a61cfc8a37",
      "metadata": {
        "id": "05a93096-73f1-4360-87a1-63a61cfc8a37"
      },
      "source": [
        "# Coin and Mean"
      ]
    },
    {
      "cell_type": "code",
      "execution_count": null,
      "id": "269c360f-b664-4107-a098-e4a9b900f9f2",
      "metadata": {
        "id": "269c360f-b664-4107-a098-e4a9b900f9f2"
      },
      "outputs": [],
      "source": [
        "#یک سکه منصف را آنقدر پرتاب کنید تا سومین شیر بیاد و پرتاب سکه متوقف شود.\n",
        "#بطور متوسط چند بار باید سکه را پرتاب کرد تا آزمایش متوقف شود؟\n",
        "\n",
        "#راهنمایی: برای پاسخ به این سوال باید امید ریاضی (میانگین) پرتاب‌ها را محاسبه کنید.\n",
        "#آزمایش بالا را 100 هزار بار تکرار کنید و تعداد پرتاب در هر آزمایش را محاسبه و در لیستی ذخیره کنید. میانگین درایه‌های لیست، پاسخ را بدست می‌دهد."
      ]
    },
    {
      "cell_type": "code",
      "execution_count": null,
      "id": "678596bc-7823-4050-b02d-96b4fe9ecce1",
      "metadata": {
        "id": "678596bc-7823-4050-b02d-96b4fe9ecce1",
        "outputId": "364b3237-c53e-4174-e5de-25bbbf4ad7da"
      },
      "outputs": [
        {
          "data": {
            "text/plain": [
              "6"
            ]
          },
          "execution_count": 17,
          "metadata": {},
          "output_type": "execute_result"
        }
      ],
      "source": [
        "#Step1\n",
        "import random as rm\n",
        "import math\n",
        "import statistics as stat\n",
        "\n",
        "l=[]\n",
        "\n",
        "#Step2\n",
        "for i in range(100000):\n",
        " flips=0\n",
        " nheads=0\n",
        " while nheads<3:\n",
        "    flips+=1\n",
        "    if rm.sample(['H','T'],1)[0]=='H':\n",
        "        nheads+=1\n",
        "\n",
        " l.append(flips)\n",
        "\n",
        "#Step3\n",
        "round(stat.mean(l))\n"
      ]
    },
    {
      "cell_type": "code",
      "execution_count": null,
      "id": "30d3c359-8220-479d-ae7a-9cf6bd0b307a",
      "metadata": {
        "id": "30d3c359-8220-479d-ae7a-9cf6bd0b307a"
      },
      "outputs": [],
      "source": []
    },
    {
      "cell_type": "code",
      "execution_count": null,
      "id": "a657b215-3d8f-450d-b337-b55e9a4ba55a",
      "metadata": {
        "id": "a657b215-3d8f-450d-b337-b55e9a4ba55a"
      },
      "outputs": [],
      "source": []
    }
  ],
  "metadata": {
    "kernelspec": {
      "display_name": "Python 3 (ipykernel)",
      "language": "python",
      "name": "python3"
    },
    "language_info": {
      "codemirror_mode": {
        "name": "ipython",
        "version": 3
      },
      "file_extension": ".py",
      "mimetype": "text/x-python",
      "name": "python",
      "nbconvert_exporter": "python",
      "pygments_lexer": "ipython3",
      "version": "3.12.4"
    },
    "colab": {
      "provenance": [],
      "include_colab_link": true
    }
  },
  "nbformat": 4,
  "nbformat_minor": 5
}